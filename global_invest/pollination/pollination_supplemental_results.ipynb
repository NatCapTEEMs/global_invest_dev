{
  "cells": [
    {
      "cell_type": "markdown",
      "metadata": {},
      "source": [
        "# Commercial Agriculture Supplementary Results\n",
        "\n",
        "Text describing it"
      ]
    },
    {
      "cell_type": "code",
      "metadata": {},
      "source": [
        "import matplotlib.pyplot as plt\n",
        "import os\n",
        "import hazelbean as hb\n",
        "from global_invest.commercial_agriculture import commercial_agriculture_functions\n",
        "from global_invest.commercial_agriculture import commercial_agriculture_defaults\n",
        "\n",
        "project_name = 'commercial_agriculture_gep' \n",
        "project_dir = os.path.join(os.path.expanduser('~'), 'Files', 'gep', 'projects', project_name)\n",
        "p = hb.ProjectFlow(project_dir)\n",
        "p.base_data_dir = \"G:/Shared drives/NatCapTEEMs/Files/base_data\"\n",
        "\n",
        "livestock = commercial_agriculture_functions.calculate_gep(p.base_data_dir, items=commercial_agriculture_defaults.DEFAULT_LIVESTOCK_ITEMS)\n",
        "crops = commercial_agriculture_functions.calculate_gep(p.base_data_dir, items=commercial_agriculture_defaults.DEFAULT_CROP_ITEMS)\n",
        "\n",
        "def year_value(df, year):\n",
        "    return df[df['year'] == year]['total_gep'].iloc[0]\n",
        "print(year_value(livestock['gep_by_year'], 2019))\n",
        "print(year_value(crops['gep_by_year'], 2019))"
      ],
      "execution_count": null,
      "outputs": []
    },
    {
      "cell_type": "markdown",
      "metadata": {},
      "source": [
        "## Primary Results: All Countries 2019\n",
        "\n",
        "Raw values"
      ]
    },
    {
      "cell_type": "code",
      "metadata": {},
      "source": [
        "print(year_value(livestock['gep_by_year'], 2019))\n",
        "print(year_value(crops['gep_by_year'], 2019))\n",
        "\n",
        "df = crops[\"gep_by_year_country\"]\n",
        "display(df[df[\"year\"] == 2019])\n",
        "\n",
        "df = livestock[\"gep_by_year_country\"]\n",
        "display(df[df[\"year\"] == 2019])"
      ],
      "execution_count": null,
      "outputs": []
    },
    {
      "cell_type": "markdown",
      "metadata": {},
      "source": [
        "## All countries, all crops and livestock 2019\n",
        "\n",
        "Display country level value for for both livestock and crops items for selected year: 2019"
      ]
    },
    {
      "cell_type": "code",
      "metadata": {},
      "source": [
        "df = crops[\"gep_by_country_year_crop\"]\n",
        "display(df[df[\"year\"] == 2019])\n",
        "\n",
        "df = livestock[\"gep_by_country_year_crop\"]\n",
        "display(df[df[\"year\"] == 2019])"
      ],
      "execution_count": null,
      "outputs": []
    },
    {
      "cell_type": "markdown",
      "metadata": {},
      "source": [
        "## Time series plot"
      ]
    },
    {
      "cell_type": "code",
      "metadata": {},
      "source": [
        "df = livestock[\"gep_by_year\"]\n",
        "df2 = crops[\"gep_by_year\"]\n",
        "display(df)\n",
        "\n",
        "plt.plot(df[\"year\"], df[\"total_gep\"], marker=\"o\", linestyle=\"-\")\n",
        "plt.plot(df2[\"year\"], df2[\"total_gep\"], marker=\"o\", linestyle=\"-\")\n",
        "plt.title(\"Time Series of Commercial Agriculture (All Countries)\")\n",
        "plt.xlabel(\"Year\")\n",
        "plt.ylabel(\"GEP (1000 USD)\")\n",
        "plt.xticks(rotation=45)\n",
        "plt.grid(True)\n",
        "plt.show()"
      ],
      "execution_count": null,
      "outputs": []
    }
  ],
  "metadata": {
    "kernelspec": {
      "display_name": "Python 3",
      "language": "python",
      "name": "python3"
    }
  },
  "nbformat": 4,
  "nbformat_minor": 4
}