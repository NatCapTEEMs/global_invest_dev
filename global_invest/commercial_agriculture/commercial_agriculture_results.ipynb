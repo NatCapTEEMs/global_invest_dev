{
  "cells": [
    {
      "cell_type": "raw",
      "metadata": {},
      "source": [
        "---\n",
        "format:\n",
        "  html:\n",
        "    embed-resources: true\n",
        "    standalone: true\n",
        "    code-fold: true           # Fold code by default in HTML\n",
        "    code-summary: \"Show code\"\n",
        "  pdf:\n",
        "    echo: false              # Hide code by default in PDF\n",
        "  docx:\n",
        "    echo: false              # Hide code by default in Word\n",
        "  ipynb: default\n",
        "---"
      ],
      "id": "0c2e0269"
    },
    {
      "cell_type": "markdown",
      "metadata": {},
      "source": [
        "# Commercial Agriculture Supplementary Results\n",
        "\n",
        "Text describing it\n"
      ],
      "id": "0e252a1b"
    },
    {
      "cell_type": "code",
      "metadata": {},
      "source": [
        "import matplotlib.pyplot as plt\n",
        "import pandas as pd\n",
        "import os\n",
        "import hazelbean as hb\n",
        "from global_invest.commercial_agriculture import commercial_agriculture_functions\n",
        "from global_invest.commercial_agriculture import commercial_agriculture_defaults\n",
        "\n",
        "project_name = 'gep_commercial_agriculture' \n",
        "project_dir = os.path.join(os.path.expanduser('~'), 'Files', 'gep', 'projects', project_name)\n",
        "p = hb.ProjectFlow(project_dir)\n",
        "p.base_data_dir = \"G:/Shared drives/NatCapTEEMs/Files/base_data\"\n",
        "\n",
        "crop_gep_by_year = pd.read_csv(os.path.join(project_dir, 'intermediate', 'commercial_agriculture', 'gep_calculation', 'crop_gep_by_year.csv'))\n",
        "livestock_gep_by_year = pd.read_csv(os.path.join(project_dir, 'intermediate', 'commercial_agriculture', 'gep_calculation', 'livestock_gep_by_year.csv'))\n",
        "\n",
        "total_value = crop_gep_by_year['Value'] + livestock_gep_by_year['Value']"
      ],
      "id": "92b3f816",
      "execution_count": null,
      "outputs": []
    },
    {
      "cell_type": "markdown",
      "metadata": {},
      "source": [
        "## Total Value\n",
        "\n",
        "The GEP calculated for this commercial agriculture is:\n",
        "\n",
        "**`{python} f\"${total_value:,.0f}\"`**\n",
        "\n",
        "Of this, `{python} f\"${crops['gep_base_year'].sum():,.0f}\"` is from crops and `{python} f\"${livestock['gep_base_year'].sum():,.0f}\"` is from livestock.\n",
        "\n",
        "## Global Commercial Agriculture GEP over time\n",
        "\n",
        "## Commercial Agriculture by Country in 2019\n",
        "\n",
        "Raw values\n"
      ],
      "id": "bd4a85ac"
    },
    {
      "cell_type": "code",
      "metadata": {},
      "source": [
        "print('crops_gep_by_year', crops_gep_by_year)\n",
        "display(crops_gep_by_year[crops_gep_by_year[\"gep_by_year\"] == 2019])\n",
        "\n",
        "display(livestock_gep_by_year[livestock_gep_by_year[\"gep_by_year\"] == 2019])"
      ],
      "id": "9ae0e1ac",
      "execution_count": null,
      "outputs": []
    }
  ],
  "metadata": {
    "kernelspec": {
      "name": "python3",
      "language": "python",
      "display_name": "Python 3 (ipykernel)"
    }
  },
  "nbformat": 4,
  "nbformat_minor": 5
}