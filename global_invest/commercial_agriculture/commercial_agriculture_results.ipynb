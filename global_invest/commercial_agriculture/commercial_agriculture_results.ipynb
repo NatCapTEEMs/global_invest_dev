{
  "cells": [
    {
      "cell_type": "raw",
      "metadata": {},
      "source": [
        "---\n",
        "format:\n",
        "  html:\n",
        "    embed-resources: true\n",
        "    standalone: true\n",
        "    code-fold: true           # Fold code by default in HTML\n",
        "    code-summary: \"Show code\"\n",
        "  pdf:\n",
        "    echo: false              # Hide code by default in PDF\n",
        "  docx:\n",
        "    echo: false              # Hide code by default in Word\n",
        "  ipynb: default\n",
        "---"
      ],
      "id": "ce65b386"
    },
    {
      "cell_type": "markdown",
      "metadata": {},
      "source": [
        "# Commercial Agriculture Results\n",
        "\n",
        "Text describing it. To be written by service team.\n",
        "\n",
        "*Code for reporting key results based on preprocessed results.*\n"
      ],
      "id": "f61d6f14"
    },
    {
      "cell_type": "code",
      "metadata": {},
      "source": [
        "import matplotlib.pyplot as plt\n",
        "import pandas as pd\n",
        "import os\n",
        "import hazelbean as hb\n",
        "from global_invest.commercial_agriculture import commercial_agriculture_functions\n",
        "from global_invest.commercial_agriculture import commercial_agriculture_defaults\n",
        "\n",
        "project_name = 'gep_commercial_agriculture' \n",
        "project_dir = os.path.join(os.path.expanduser('~'), 'Files', 'gep', 'projects', project_name)\n",
        "p = hb.ProjectFlow(project_dir)\n",
        "p.base_data_dir = \"G:/Shared drives/NatCapTEEMs/Files/base_data\"\n",
        "\n",
        "# Build results loading task tree\n",
        "\n",
        "\n",
        "crop_gep_by_year = pd.read_csv(os.path.join(project_dir, 'intermediate', 'commercial_agriculture', 'gep_calculation', 'crop_gep_by_year.csv'))\n",
        "livestock_gep_by_year = pd.read_csv(os.path.join(project_dir, 'intermediate', 'commercial_agriculture', 'gep_calculation', 'livestock_gep_by_year.csv'))\n",
        "\n",
        "total_value_by_year = crop_gep_by_year['Value'] + livestock_gep_by_year['Value']\n",
        "total_agricultural_value = total_value_by_year.sum()\n",
        "\n",
        "display(total_value_by_year)"
      ],
      "id": "9e3a5c76",
      "execution_count": null,
      "outputs": []
    },
    {
      "cell_type": "markdown",
      "metadata": {},
      "source": [
        "## Primary results\n"
      ],
      "id": "68279e3e"
    },
    {
      "cell_type": "code",
      "metadata": {},
      "source": [
        "import matplotlib.pyplot as plt\n",
        "import pandas as pd\n",
        "import os\n",
        "import hazelbean as hb\n",
        "from global_invest.commercial_agriculture import commercial_agriculture_functions\n",
        "from global_invest.commercial_agriculture import commercial_agriculture_defaults\n",
        "\n",
        "project_name = 'gep_commercial_agriculture' \n",
        "project_dir = os.path.join(os.path.expanduser('~'), 'Files', 'gep', 'projects', project_name)\n",
        "p = hb.ProjectFlow(project_dir)\n",
        "p.base_data_dir = \"G:/Shared drives/NatCapTEEMs/Files/base_data\"\n",
        "\n",
        "crop_gep_by_year = pd.read_csv(os.path.join(project_dir, 'intermediate', 'commercial_agriculture', 'gep_calculation', 'crop_gep_by_year.csv'))\n",
        "livestock_gep_by_year = pd.read_csv(os.path.join(project_dir, 'intermediate', 'commercial_agriculture', 'gep_calculation', 'livestock_gep_by_year.csv'))\n",
        "\n",
        "total_value_by_year = crop_gep_by_year['Value'] + livestock_gep_by_year['Value']\n",
        "total_agricultural_value = total_value_by_year.sum()\n",
        "\n",
        "display(total_value_by_year)"
      ],
      "id": "ee4c5dbb",
      "execution_count": null,
      "outputs": []
    },
    {
      "cell_type": "markdown",
      "metadata": {},
      "source": [
        "The analysis reveals that commercial agriculture generates a total gross economic product of $`{python} f\"{total_agricultural_value:,.2f}\"` across the study period.\n"
      ],
      "id": "1d2633a6"
    }
  ],
  "metadata": {
    "kernelspec": {
      "name": "python3",
      "language": "python",
      "display_name": "Python 3 (ipykernel)"
    }
  },
  "nbformat": 4,
  "nbformat_minor": 5
}